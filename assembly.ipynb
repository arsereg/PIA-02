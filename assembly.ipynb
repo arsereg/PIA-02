{
 "cells": [
  {
   "metadata": {
    "ExecuteTime": {
     "end_time": "2024-11-24T04:27:29.763227Z",
     "start_time": "2024-11-24T04:27:29.755685Z"
    }
   },
   "cell_type": "code",
   "source": [
    "import pandas as pd\n",
    "df = pd.read_csv('heart_rate_final_data.csv')\n",
    "important_features = [\n",
    "    'minimum_hrv',\n",
    "    'maximum_hrv',\n",
    "    'standard_deviation_hrv',\n",
    "    'mean_hr_slope',\n",
    "    'tendency_slope',\n",
    "    'lowest_heart_rate',\n",
    "    'vlf_power',\n",
    "    'lf_power',\n",
    "    'hf_power',\n",
    "    'approximation_entropy'\n",
    "]\n",
    "\n",
    "df = df[important_features + ['diagnosis']]\n",
    "df.head()"
   ],
   "id": "e50faffa678adebc",
   "outputs": [
    {
     "data": {
      "text/plain": [
       "   minimum_hrv  maximum_hrv  standard_deviation_hrv  mean_hr_slope  \\\n",
       "0     5.270758    -1.100457               -0.853262      -0.080281   \n",
       "1     3.264282    -0.774788               -0.744351      -0.064718   \n",
       "2     1.344018    -0.741190               -0.682890       0.050842   \n",
       "3     1.845604    -1.089693               -0.846547       0.004286   \n",
       "4     0.181425    -1.285938               -0.969076      -0.081914   \n",
       "\n",
       "   tendency_slope  lowest_heart_rate  vlf_power  lf_power  hf_power  \\\n",
       "0       -0.041026           4.096003  -0.284767 -0.189337 -0.244046   \n",
       "1       -0.039944           2.433065   0.485796  0.364595 -0.015363   \n",
       "2       -0.012519           0.544783   1.942469  0.672150 -0.102231   \n",
       "3       -0.004004           1.160871   0.415740 -0.143623 -0.263302   \n",
       "4        0.016885          -0.939517  -0.121459 -0.411071 -0.485855   \n",
       "\n",
       "   approximation_entropy  diagnosis  \n",
       "0               0.526260        1.0  \n",
       "1               0.261658        1.0  \n",
       "2               0.313895        1.0  \n",
       "3               0.142443        1.0  \n",
       "4               0.841685        1.0  "
      ],
      "text/html": [
       "<div>\n",
       "<style scoped>\n",
       "    .dataframe tbody tr th:only-of-type {\n",
       "        vertical-align: middle;\n",
       "    }\n",
       "\n",
       "    .dataframe tbody tr th {\n",
       "        vertical-align: top;\n",
       "    }\n",
       "\n",
       "    .dataframe thead th {\n",
       "        text-align: right;\n",
       "    }\n",
       "</style>\n",
       "<table border=\"1\" class=\"dataframe\">\n",
       "  <thead>\n",
       "    <tr style=\"text-align: right;\">\n",
       "      <th></th>\n",
       "      <th>minimum_hrv</th>\n",
       "      <th>maximum_hrv</th>\n",
       "      <th>standard_deviation_hrv</th>\n",
       "      <th>mean_hr_slope</th>\n",
       "      <th>tendency_slope</th>\n",
       "      <th>lowest_heart_rate</th>\n",
       "      <th>vlf_power</th>\n",
       "      <th>lf_power</th>\n",
       "      <th>hf_power</th>\n",
       "      <th>approximation_entropy</th>\n",
       "      <th>diagnosis</th>\n",
       "    </tr>\n",
       "  </thead>\n",
       "  <tbody>\n",
       "    <tr>\n",
       "      <th>0</th>\n",
       "      <td>5.270758</td>\n",
       "      <td>-1.100457</td>\n",
       "      <td>-0.853262</td>\n",
       "      <td>-0.080281</td>\n",
       "      <td>-0.041026</td>\n",
       "      <td>4.096003</td>\n",
       "      <td>-0.284767</td>\n",
       "      <td>-0.189337</td>\n",
       "      <td>-0.244046</td>\n",
       "      <td>0.526260</td>\n",
       "      <td>1.0</td>\n",
       "    </tr>\n",
       "    <tr>\n",
       "      <th>1</th>\n",
       "      <td>3.264282</td>\n",
       "      <td>-0.774788</td>\n",
       "      <td>-0.744351</td>\n",
       "      <td>-0.064718</td>\n",
       "      <td>-0.039944</td>\n",
       "      <td>2.433065</td>\n",
       "      <td>0.485796</td>\n",
       "      <td>0.364595</td>\n",
       "      <td>-0.015363</td>\n",
       "      <td>0.261658</td>\n",
       "      <td>1.0</td>\n",
       "    </tr>\n",
       "    <tr>\n",
       "      <th>2</th>\n",
       "      <td>1.344018</td>\n",
       "      <td>-0.741190</td>\n",
       "      <td>-0.682890</td>\n",
       "      <td>0.050842</td>\n",
       "      <td>-0.012519</td>\n",
       "      <td>0.544783</td>\n",
       "      <td>1.942469</td>\n",
       "      <td>0.672150</td>\n",
       "      <td>-0.102231</td>\n",
       "      <td>0.313895</td>\n",
       "      <td>1.0</td>\n",
       "    </tr>\n",
       "    <tr>\n",
       "      <th>3</th>\n",
       "      <td>1.845604</td>\n",
       "      <td>-1.089693</td>\n",
       "      <td>-0.846547</td>\n",
       "      <td>0.004286</td>\n",
       "      <td>-0.004004</td>\n",
       "      <td>1.160871</td>\n",
       "      <td>0.415740</td>\n",
       "      <td>-0.143623</td>\n",
       "      <td>-0.263302</td>\n",
       "      <td>0.142443</td>\n",
       "      <td>1.0</td>\n",
       "    </tr>\n",
       "    <tr>\n",
       "      <th>4</th>\n",
       "      <td>0.181425</td>\n",
       "      <td>-1.285938</td>\n",
       "      <td>-0.969076</td>\n",
       "      <td>-0.081914</td>\n",
       "      <td>0.016885</td>\n",
       "      <td>-0.939517</td>\n",
       "      <td>-0.121459</td>\n",
       "      <td>-0.411071</td>\n",
       "      <td>-0.485855</td>\n",
       "      <td>0.841685</td>\n",
       "      <td>1.0</td>\n",
       "    </tr>\n",
       "  </tbody>\n",
       "</table>\n",
       "</div>"
      ]
     },
     "execution_count": 101,
     "metadata": {},
     "output_type": "execute_result"
    }
   ],
   "execution_count": 101
  },
  {
   "metadata": {
    "ExecuteTime": {
     "end_time": "2024-11-24T04:27:29.766295Z",
     "start_time": "2024-11-24T04:27:29.763814Z"
    }
   },
   "cell_type": "code",
   "source": "df.value_counts('diagnosis')",
   "id": "65b50992e86a9260",
   "outputs": [
    {
     "data": {
      "text/plain": [
       "diagnosis\n",
       "0.0    1162\n",
       "1.0    1162\n",
       "Name: count, dtype: int64"
      ]
     },
     "execution_count": 102,
     "metadata": {},
     "output_type": "execute_result"
    }
   ],
   "execution_count": 102
  },
  {
   "metadata": {
    "ExecuteTime": {
     "end_time": "2024-11-24T04:27:29.768409Z",
     "start_time": "2024-11-24T04:27:29.766679Z"
    }
   },
   "cell_type": "code",
   "source": [
    "import numpy as np\n",
    "\n",
    "target_column = 'diagnosis'\n",
    "X = df.drop(columns=[target_column])\n",
    "y = df[target_column]"
   ],
   "id": "1812b45c2439651",
   "outputs": [],
   "execution_count": 103
  },
  {
   "metadata": {
    "ExecuteTime": {
     "end_time": "2024-11-24T04:27:30.262966Z",
     "start_time": "2024-11-24T04:27:29.768796Z"
    }
   },
   "cell_type": "code",
   "source": [
    "from keras.src.saving.saving_lib import load_model\n",
    "from sklearn.metrics import accuracy_score\n",
    "model_names = ['model_0', 'model_1']\n",
    "\n",
    "for i in range(len(model_names)):\n",
    "    \n",
    "    model_name = model_names[i]\n",
    "    # Load model\n",
    "    model = load_model(f'./{model_name}.keras')\n",
    "    from sklearn.metrics import confusion_matrix,classification_report\n",
    "    \n",
    "    y_pred = (model.predict(X) > 0.6).astype(\"int32\")\n",
    "    score = accuracy_score(y, y_pred)\n",
    "    cm = confusion_matrix(y, y_pred)\n",
    "    cr = classification_report(y, y_pred)\n",
    "    \n",
    "    print(\"Confusion Matrix:\\n\", cm)\n",
    "    print(\"\\nClassification Report:\\n\", cr)\n",
    "    print(f\"Accuracy: {score}\")\n"
   ],
   "id": "30530f9af1515bc4",
   "outputs": [
    {
     "name": "stdout",
     "output_type": "stream",
     "text": [
      "\u001B[1m73/73\u001B[0m \u001B[32m━━━━━━━━━━━━━━━━━━━━\u001B[0m\u001B[37m\u001B[0m \u001B[1m0s\u001B[0m 1ms/step  \n",
      "Confusion Matrix:\n",
      " [[1070   92]\n",
      " [  18 1144]]\n",
      "\n",
      "Classification Report:\n",
      "               precision    recall  f1-score   support\n",
      "\n",
      "         0.0       0.98      0.92      0.95      1162\n",
      "         1.0       0.93      0.98      0.95      1162\n",
      "\n",
      "    accuracy                           0.95      2324\n",
      "   macro avg       0.95      0.95      0.95      2324\n",
      "weighted avg       0.95      0.95      0.95      2324\n",
      "\n",
      "Accuracy: 0.9526678141135972\n",
      "\u001B[1m73/73\u001B[0m \u001B[32m━━━━━━━━━━━━━━━━━━━━\u001B[0m\u001B[37m\u001B[0m \u001B[1m0s\u001B[0m 1ms/step  \n",
      "Confusion Matrix:\n",
      " [[1068   94]\n",
      " [  25 1137]]\n",
      "\n",
      "Classification Report:\n",
      "               precision    recall  f1-score   support\n",
      "\n",
      "         0.0       0.98      0.92      0.95      1162\n",
      "         1.0       0.92      0.98      0.95      1162\n",
      "\n",
      "    accuracy                           0.95      2324\n",
      "   macro avg       0.95      0.95      0.95      2324\n",
      "weighted avg       0.95      0.95      0.95      2324\n",
      "\n",
      "Accuracy: 0.9487951807228916\n"
     ]
    }
   ],
   "execution_count": 104
  }
 ],
 "metadata": {
  "kernelspec": {
   "display_name": "Python 3",
   "language": "python",
   "name": "python3"
  },
  "language_info": {
   "codemirror_mode": {
    "name": "ipython",
    "version": 2
   },
   "file_extension": ".py",
   "mimetype": "text/x-python",
   "name": "python",
   "nbconvert_exporter": "python",
   "pygments_lexer": "ipython2",
   "version": "2.7.6"
  }
 },
 "nbformat": 4,
 "nbformat_minor": 5
}
