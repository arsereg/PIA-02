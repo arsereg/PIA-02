{
 "cells": [
  {
   "cell_type": "markdown",
   "id": "9a396005105e34f3",
   "metadata": {},
   "source": [
    "# Extracción de datos de la base de datos de PTB Diagnostic ECG Database"
   ]
  },
  {
   "cell_type": "code",
   "id": "cffc3ac229ea64f4",
   "metadata": {},
   "source": [
    "import wfdb\n",
    "import numpy as np\n",
    "import matplotlib.pyplot as plt\n",
    "from scipy.signal import butter, filtfilt, find_peaks"
   ],
   "outputs": [],
   "execution_count": null
  },
  {
   "cell_type": "code",
   "id": "3e919a236a1f80c5",
   "metadata": {},
   "source": [
    "folder_name = './data/autonomic-aging-a-dataset'\n",
    "files = []\n",
    "diagnosis_per_patient = {}\n",
    "kinds_of_diagnosis = set()\n",
    "patients_per_diagnosis = {}"
   ],
   "outputs": [],
   "execution_count": null
  },
  {
   "cell_type": "code",
   "id": "c7bfed6e9d353e1d",
   "metadata": {},
   "source": [
    "def bandpass_filter(signal, lowcut, highcut, fs, order=1):\n",
    "    nyquist = 0.5 * fs\n",
    "    low = lowcut / nyquist\n",
    "    high = highcut / nyquist\n",
    "    b, a = butter(order, [low, high], btype='band')\n",
    "    return filtfilt(b, a, signal)"
   ],
   "outputs": [],
   "execution_count": null
  },
  {
   "cell_type": "code",
   "id": "f6908171694c184c",
   "metadata": {},
   "source": [
    "def calculate_hr(p_record_name):\n",
    "    try:\n",
    "        record = wfdb.rdrecord(p_record_name)\n",
    "        ecg_data = record.p_signal  # Load all 12-lead ECG signals\n",
    "    \n",
    "        # Step 2: Select Lead II for Heart Rate Calculation\n",
    "        lead_II = ecg_data[:, 1]  # Assuming lead II is the second column\n",
    "        \n",
    "        fs = 1000  # Sampling frequency is 1000 Hz\n",
    "        filtered_lead_II = bandpass_filter(lead_II, 0.5, 50, fs)\n",
    "        \n",
    "        # Step 4: R-Peak Detection\n",
    "        # Use the find_peaks function to detect R-peaks\n",
    "        peaks, _ = find_peaks(filtered_lead_II, distance=fs*0.6)  # Assuming a minimum distance of 600ms between peaks\n",
    "        \n",
    "        # Step 5: Calculate RR Intervals and Heart Rate\n",
    "        rr_intervals = np.diff(peaks) / fs  # RR intervals in seconds\n",
    "        hr_values = 60 / rr_intervals  # Heart rate in beats per minute (bpm)\n",
    "        \n",
    "        # Step 6: Generate Time Axis for Heart Rate Plot\n",
    "        time_peaks = peaks / fs  # Time of R-peaks in seconds\n",
    "        time_hr = (time_peaks[:-1] + time_peaks[1:]) / 2  # Midpoint between successive peaks\n",
    "        return time_hr, hr_values\n",
    "    except Exception as e:\n",
    "        print(f\"Error processing record {p_record_name}: {e}\")\n",
    "        return [], []"
   ],
   "outputs": [],
   "execution_count": null
  },
  {
   "cell_type": "code",
   "id": "f869ce3e2e9e15b2",
   "metadata": {},
   "source": [
    "def plot_hr_signal(time_hr, hr_values):\n",
    "    plt.figure(figsize=(10, 6))\n",
    "    plt.plot(time_hr, hr_values, label='Heart Rate (bpm)', color='b', marker='o', linestyle='-')\n",
    "    plt.title('Heart Rate over Time')\n",
    "    plt.xlabel('Time (s)')\n",
    "    plt.ylabel('Heart Rate (bpm)')\n",
    "    plt.grid(True)\n",
    "    plt.legend()\n",
    "    plt.show()"
   ],
   "outputs": [],
   "execution_count": null
  },
  {
   "cell_type": "code",
   "id": "3b8e1c7555144abf",
   "metadata": {},
   "source": [
    "# Descomentar para visualizar métricas de diagnóstico\n",
    "# with open(folder_name + '/RECORDS') as f:\n",
    "#     for line in f:\n",
    "#         record_name = line.strip()\n",
    "#         file_name = f'{folder_name}/{record_name}'\n",
    "#         files.append(file_name)\n",
    "#         header = wfdb.rdheader(file_name)\n",
    "#         diagnosis = header.comments[4].split(': ')[1]\n",
    "#         diagnosis_per_patient[f'{record_name}'] = diagnosis\n",
    "#         kinds_of_diagnosis.add(diagnosis)\n",
    "#         if diagnosis in patients_per_diagnosis:\n",
    "#             patients_per_diagnosis[diagnosis].append(record_name)\n",
    "#         else:\n",
    "#             patients_per_diagnosis[diagnosis] = [record_name]\n",
    "#         time_hr, hr_values = calculate_hr(file_name)\n",
    "#         plot_hr_signal(time_hr, hr_values)\n",
    "\n"
   ],
   "outputs": [],
   "execution_count": null
  },
  {
   "cell_type": "code",
   "id": "cf5c02472e7a54f5",
   "metadata": {},
   "source": [
    "import pandas as pd\n",
    "from scipy.signal import find_peaks\n",
    "from hr_engine import get_features\n",
    "\n",
    "\n",
    "times = pd.DataFrame()\n",
    "hear_rates = pd.DataFrame()\n",
    "process_only_one = False\n",
    "results = []\n",
    "with open(folder_name + '/RECORDS') as f:\n",
    "    for line in f:\n",
    "        \n",
    "        record_name = line.strip()\n",
    "        file_name = f'{folder_name}/{record_name}'\n",
    "        files.append(file_name)\n",
    "        header = wfdb.rdheader(file_name)\n",
    "        # diagnosis = header.comments[4].split(': ')[1]\n",
    "        # if diagnosis == 'n/a':\n",
    "        #     continue\n",
    "        # diagnosis_per_patient[f'{record_name}'] = diagnosis\n",
    "        # kinds_of_diagnosis.add(diagnosis)\n",
    "        # if diagnosis in patients_per_diagnosis:\n",
    "        #     patients_per_diagnosis[diagnosis].append(record_name)\n",
    "        # else:\n",
    "        #     patients_per_diagnosis[diagnosis] = [record_name]\n",
    "        time_hr, hr_values = calculate_hr(file_name)\n",
    "        \n",
    "        # remove first 5 and last 5 values of time_hr and hr_values\n",
    "        time_hr = time_hr[5:-5]\n",
    "        hr_values = hr_values[5:-5]\n",
    "\n",
    "        # if diagnosis == 'n/a':\n",
    "        #     continue\n",
    "        \n",
    "        # diagnosis = 0 if diagnosis == \"Healthy control\" else 1\n",
    "        # print(time_hr)\n",
    "        if(len(hr_values) == 0 or len(time_hr) == 0):\n",
    "            continue\n",
    "        results.append(get_features(hr_values=hr_values, time_hr=time_hr, record_name=record_name, diagnosis=0))\n",
    "\n",
    "        if process_only_one:\n",
    "            break\n",
    "# print(kinds_of_diagnosis)\n",
    "df = pd.DataFrame(results)\n",
    "df.head()\n",
    "\n",
    "# print(kinds_of_diagnosis)\n",
    "        "
   ],
   "outputs": [],
   "execution_count": null
  },
  {
   "cell_type": "code",
   "id": "f534663332338384",
   "metadata": {},
   "source": "df.to_csv('autonomic-aging-a-dataset-clear-data.csv', index=False)",
   "outputs": [],
   "execution_count": null
  }
 ],
 "metadata": {
  "kernelspec": {
   "display_name": "Python 3",
   "language": "python",
   "name": "python3"
  },
  "language_info": {
   "codemirror_mode": {
    "name": "ipython",
    "version": 3
   },
   "file_extension": ".py",
   "mimetype": "text/x-python",
   "name": "python",
   "nbconvert_exporter": "python",
   "pygments_lexer": "ipython3",
   "version": "3.9.7"
  }
 },
 "nbformat": 4,
 "nbformat_minor": 5
}
