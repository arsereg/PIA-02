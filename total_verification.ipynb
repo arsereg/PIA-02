{
 "cells": [
  {
   "cell_type": "code",
   "execution_count": 1,
   "id": "e50faffa678adebc",
   "metadata": {
    "ExecuteTime": {
     "end_time": "2024-11-28T08:21:13.206972Z",
     "start_time": "2024-11-28T08:21:12.589073Z"
    }
   },
   "outputs": [
    {
     "data": {
      "text/html": [
       "<div>\n",
       "<style scoped>\n",
       "    .dataframe tbody tr th:only-of-type {\n",
       "        vertical-align: middle;\n",
       "    }\n",
       "\n",
       "    .dataframe tbody tr th {\n",
       "        vertical-align: top;\n",
       "    }\n",
       "\n",
       "    .dataframe thead th {\n",
       "        text-align: right;\n",
       "    }\n",
       "</style>\n",
       "<table border=\"1\" class=\"dataframe\">\n",
       "  <thead>\n",
       "    <tr style=\"text-align: right;\">\n",
       "      <th></th>\n",
       "      <th>minimum_hrv</th>\n",
       "      <th>maximum_hrv</th>\n",
       "      <th>standard_deviation_hrv</th>\n",
       "      <th>mean_hr_slope</th>\n",
       "      <th>tendency_slope</th>\n",
       "      <th>lowest_heart_rate</th>\n",
       "      <th>vlf_power</th>\n",
       "      <th>lf_power</th>\n",
       "      <th>hf_power</th>\n",
       "      <th>approximation_entropy</th>\n",
       "      <th>diagnosis</th>\n",
       "    </tr>\n",
       "  </thead>\n",
       "  <tbody>\n",
       "    <tr>\n",
       "      <th>0</th>\n",
       "      <td>3.450431</td>\n",
       "      <td>-0.790035</td>\n",
       "      <td>-0.749342</td>\n",
       "      <td>-0.048090</td>\n",
       "      <td>-0.078912</td>\n",
       "      <td>2.512490</td>\n",
       "      <td>0.545787</td>\n",
       "      <td>0.420836</td>\n",
       "      <td>-0.001643</td>\n",
       "      <td>0.255468</td>\n",
       "      <td>1.0</td>\n",
       "    </tr>\n",
       "    <tr>\n",
       "      <th>1</th>\n",
       "      <td>1.439435</td>\n",
       "      <td>-0.756102</td>\n",
       "      <td>-0.688494</td>\n",
       "      <td>0.075299</td>\n",
       "      <td>-0.052416</td>\n",
       "      <td>0.576996</td>\n",
       "      <td>2.107190</td>\n",
       "      <td>0.753751</td>\n",
       "      <td>-0.090743</td>\n",
       "      <td>0.308598</td>\n",
       "      <td>1.0</td>\n",
       "    </tr>\n",
       "    <tr>\n",
       "      <th>2</th>\n",
       "      <td>1.964721</td>\n",
       "      <td>-1.108085</td>\n",
       "      <td>-0.850519</td>\n",
       "      <td>0.025589</td>\n",
       "      <td>-0.044190</td>\n",
       "      <td>1.208488</td>\n",
       "      <td>0.470694</td>\n",
       "      <td>-0.129289</td>\n",
       "      <td>-0.255954</td>\n",
       "      <td>0.134216</td>\n",
       "      <td>1.0</td>\n",
       "    </tr>\n",
       "    <tr>\n",
       "      <th>3</th>\n",
       "      <td>0.221910</td>\n",
       "      <td>-1.306291</td>\n",
       "      <td>-0.971825</td>\n",
       "      <td>-0.066450</td>\n",
       "      <td>-0.024009</td>\n",
       "      <td>-0.944415</td>\n",
       "      <td>-0.105127</td>\n",
       "      <td>-0.418790</td>\n",
       "      <td>-0.484227</td>\n",
       "      <td>0.845409</td>\n",
       "      <td>1.0</td>\n",
       "    </tr>\n",
       "    <tr>\n",
       "      <th>4</th>\n",
       "      <td>0.548010</td>\n",
       "      <td>-0.832847</td>\n",
       "      <td>-0.703936</td>\n",
       "      <td>0.018008</td>\n",
       "      <td>0.016628</td>\n",
       "      <td>-0.691628</td>\n",
       "      <td>1.265179</td>\n",
       "      <td>0.628343</td>\n",
       "      <td>-0.053812</td>\n",
       "      <td>0.525548</td>\n",
       "      <td>0.0</td>\n",
       "    </tr>\n",
       "  </tbody>\n",
       "</table>\n",
       "</div>"
      ],
      "text/plain": [
       "   minimum_hrv  maximum_hrv  standard_deviation_hrv  mean_hr_slope  \\\n",
       "0     3.450431    -0.790035               -0.749342      -0.048090   \n",
       "1     1.439435    -0.756102               -0.688494       0.075299   \n",
       "2     1.964721    -1.108085               -0.850519       0.025589   \n",
       "3     0.221910    -1.306291               -0.971825      -0.066450   \n",
       "4     0.548010    -0.832847               -0.703936       0.018008   \n",
       "\n",
       "   tendency_slope  lowest_heart_rate  vlf_power  lf_power  hf_power  \\\n",
       "0       -0.078912           2.512490   0.545787  0.420836 -0.001643   \n",
       "1       -0.052416           0.576996   2.107190  0.753751 -0.090743   \n",
       "2       -0.044190           1.208488   0.470694 -0.129289 -0.255954   \n",
       "3       -0.024009          -0.944415  -0.105127 -0.418790 -0.484227   \n",
       "4        0.016628          -0.691628   1.265179  0.628343 -0.053812   \n",
       "\n",
       "   approximation_entropy  diagnosis  \n",
       "0               0.255468        1.0  \n",
       "1               0.308598        1.0  \n",
       "2               0.134216        1.0  \n",
       "3               0.845409        1.0  \n",
       "4               0.525548        0.0  "
      ]
     },
     "execution_count": 1,
     "metadata": {},
     "output_type": "execute_result"
    }
   ],
   "source": [
    "import pandas as pd\n",
    "df = pd.read_csv('heart_rate_final_data.csv')\n",
    "important_features = [\n",
    "    'minimum_hrv',\n",
    "    'maximum_hrv',\n",
    "    'standard_deviation_hrv',\n",
    "    'mean_hr_slope',\n",
    "    'tendency_slope',\n",
    "    'lowest_heart_rate',\n",
    "    'vlf_power',\n",
    "    'lf_power',\n",
    "    'hf_power',\n",
    "    'approximation_entropy'\n",
    "]\n",
    "\n",
    "df = df[important_features + ['diagnosis']]\n",
    "df.head()"
   ]
  },
  {
   "cell_type": "code",
   "execution_count": 2,
   "id": "65b50992e86a9260",
   "metadata": {
    "ExecuteTime": {
     "end_time": "2024-11-28T08:21:13.233538Z",
     "start_time": "2024-11-28T08:21:13.229566Z"
    }
   },
   "outputs": [
    {
     "data": {
      "text/plain": [
       "diagnosis\n",
       "0.0    1112\n",
       "1.0    1112\n",
       "Name: count, dtype: int64"
      ]
     },
     "execution_count": 2,
     "metadata": {},
     "output_type": "execute_result"
    }
   ],
   "source": [
    "df.value_counts('diagnosis')"
   ]
  },
  {
   "cell_type": "code",
   "execution_count": 3,
   "id": "1812b45c2439651",
   "metadata": {
    "ExecuteTime": {
     "end_time": "2024-11-28T08:21:13.277412Z",
     "start_time": "2024-11-28T08:21:13.274631Z"
    }
   },
   "outputs": [],
   "source": [
    "import numpy as np\n",
    "\n",
    "target_column = 'diagnosis'\n",
    "X = df.drop(columns=[target_column])\n",
    "y = df[target_column]"
   ]
  },
  {
   "cell_type": "code",
   "execution_count": 4,
   "id": "30530f9af1515bc4",
   "metadata": {
    "ExecuteTime": {
     "end_time": "2024-11-28T08:21:31.566322Z",
     "start_time": "2024-11-28T08:21:13.337127Z"
    }
   },
   "outputs": [
    {
     "name": "stderr",
     "output_type": "stream",
     "text": [
      "2024-11-28 03:20:25.497544: I tensorflow/core/util/port.cc:153] oneDNN custom operations are on. You may see slightly different numerical results due to floating-point round-off errors from different computation orders. To turn them off, set the environment variable `TF_ENABLE_ONEDNN_OPTS=0`.\n",
      "2024-11-28 03:20:25.504616: E external/local_xla/xla/stream_executor/cuda/cuda_fft.cc:477] Unable to register cuFFT factory: Attempting to register factory for plugin cuFFT when one has already been registered\n",
      "WARNING: All log messages before absl::InitializeLog() is called are written to STDERR\n",
      "E0000 00:00:1732785625.512516  133481 cuda_dnn.cc:8310] Unable to register cuDNN factory: Attempting to register factory for plugin cuDNN when one has already been registered\n",
      "E0000 00:00:1732785625.514958  133481 cuda_blas.cc:1418] Unable to register cuBLAS factory: Attempting to register factory for plugin cuBLAS when one has already been registered\n",
      "2024-11-28 03:20:25.523916: I tensorflow/core/platform/cpu_feature_guard.cc:210] This TensorFlow binary is optimized to use available CPU instructions in performance-critical operations.\n",
      "To enable the following instructions: AVX2 AVX_VNNI FMA, in other operations, rebuild TensorFlow with the appropriate compiler flags.\n",
      "I0000 00:00:1732785626.731618  133481 gpu_device.cc:2022] Created device /job:localhost/replica:0/task:0/device:GPU:0 with 808 MB memory:  -> device: 0, name: NVIDIA GeForce RTX 4090, pci bus id: 0000:01:00.0, compute capability: 8.9\n",
      "WARNING: All log messages before absl::InitializeLog() is called are written to STDERR\n",
      "I0000 00:00:1732785627.199188  133660 service.cc:148] XLA service 0x714d60006f10 initialized for platform CUDA (this does not guarantee that XLA will be used). Devices:\n",
      "I0000 00:00:1732785627.199207  133660 service.cc:156]   StreamExecutor device (0): NVIDIA GeForce RTX 4090, Compute Capability 8.9\n",
      "2024-11-28 03:20:27.203431: I tensorflow/compiler/mlir/tensorflow/utils/dump_mlir_util.cc:268] disabling MLIR crash reproducer, set env var `MLIR_CRASH_REPRODUCER_DIRECTORY` to enable.\n",
      "I0000 00:00:1732785627.221262  133660 cuda_dnn.cc:529] Loaded cuDNN version 90300\n",
      "2024-11-28 03:20:27.581655: I external/local_xla/xla/stream_executor/cuda/cuda_asm_compiler.cc:397] ptxas warning : Registers are spilled to local memory in function 'gemm_fusion_dot_33_0', 88 bytes spill stores, 120 bytes spill loads\n",
      "\n",
      "2024-11-28 03:20:27.598094: I external/local_xla/xla/stream_executor/cuda/cuda_asm_compiler.cc:397] ptxas warning : Registers are spilled to local memory in function 'gemm_fusion_dot_26', 196 bytes spill stores, 196 bytes spill loads\n",
      "\n",
      "2024-11-28 03:20:27.600277: I external/local_xla/xla/stream_executor/cuda/cuda_asm_compiler.cc:397] ptxas warning : Registers are spilled to local memory in function 'gemm_fusion_dot_26_0', 76 bytes spill stores, 248 bytes spill loads\n",
      "\n",
      "2024-11-28 03:20:27.938475: I external/local_xla/xla/stream_executor/cuda/cuda_asm_compiler.cc:397] ptxas warning : Registers are spilled to local memory in function 'gemm_fusion_dot_33', 220 bytes spill stores, 220 bytes spill loads\n",
      "\n"
     ]
    },
    {
     "name": "stdout",
     "output_type": "stream",
     "text": [
      "\u001b[1m 1/70\u001b[0m \u001b[37m━━━━━━━━━━━━━━━━━━━━\u001b[0m \u001b[1m1:24\u001b[0m 1s/step"
     ]
    },
    {
     "name": "stderr",
     "output_type": "stream",
     "text": [
      "I0000 00:00:1732785628.369145  133660 device_compiler.h:188] Compiled cluster using XLA!  This line is logged at most once for the lifetime of the process.\n"
     ]
    },
    {
     "name": "stdout",
     "output_type": "stream",
     "text": [
      "\u001b[1m70/70\u001b[0m \u001b[32m━━━━━━━━━━━━━━━━━━━━\u001b[0m\u001b[37m\u001b[0m \u001b[1m2s\u001b[0m 17ms/step\n",
      "Confusion Matrix:\n",
      " [[1020   92]\n",
      " [   7 1105]]\n",
      "\n",
      "Classification Report:\n",
      "               precision    recall  f1-score   support\n",
      "\n",
      "         0.0       0.99      0.92      0.95      1112\n",
      "         1.0       0.92      0.99      0.96      1112\n",
      "\n",
      "    accuracy                           0.96      2224\n",
      "   macro avg       0.96      0.96      0.96      2224\n",
      "weighted avg       0.96      0.96      0.96      2224\n",
      "\n",
      "Accuracy: 0.9554856115107914\n",
      "\u001b[1m70/70\u001b[0m \u001b[32m━━━━━━━━━━━━━━━━━━━━\u001b[0m\u001b[37m\u001b[0m \u001b[1m1s\u001b[0m 5ms/step \n",
      "Confusion Matrix:\n",
      " [[1030   82]\n",
      " [   3 1109]]\n",
      "\n",
      "Classification Report:\n",
      "               precision    recall  f1-score   support\n",
      "\n",
      "         0.0       1.00      0.93      0.96      1112\n",
      "         1.0       0.93      1.00      0.96      1112\n",
      "\n",
      "    accuracy                           0.96      2224\n",
      "   macro avg       0.96      0.96      0.96      2224\n",
      "weighted avg       0.96      0.96      0.96      2224\n",
      "\n",
      "Accuracy: 0.9617805755395683\n",
      "\u001b[1m70/70\u001b[0m \u001b[32m━━━━━━━━━━━━━━━━━━━━\u001b[0m\u001b[37m\u001b[0m \u001b[1m1s\u001b[0m 5ms/step \n",
      "Confusion Matrix:\n",
      " [[1033   79]\n",
      " [   3 1109]]\n",
      "\n",
      "Classification Report:\n",
      "               precision    recall  f1-score   support\n",
      "\n",
      "         0.0       1.00      0.93      0.96      1112\n",
      "         1.0       0.93      1.00      0.96      1112\n",
      "\n",
      "    accuracy                           0.96      2224\n",
      "   macro avg       0.97      0.96      0.96      2224\n",
      "weighted avg       0.97      0.96      0.96      2224\n",
      "\n",
      "Accuracy: 0.9631294964028777\n",
      "\u001b[1m70/70\u001b[0m \u001b[32m━━━━━━━━━━━━━━━━━━━━\u001b[0m\u001b[37m\u001b[0m \u001b[1m1s\u001b[0m 5ms/step \n",
      "Confusion Matrix:\n",
      " [[1035   77]\n",
      " [   1 1111]]\n",
      "\n",
      "Classification Report:\n",
      "               precision    recall  f1-score   support\n",
      "\n",
      "         0.0       1.00      0.93      0.96      1112\n",
      "         1.0       0.94      1.00      0.97      1112\n",
      "\n",
      "    accuracy                           0.96      2224\n",
      "   macro avg       0.97      0.96      0.96      2224\n",
      "weighted avg       0.97      0.96      0.96      2224\n",
      "\n",
      "Accuracy: 0.9649280575539568\n",
      "\u001b[1m70/70\u001b[0m \u001b[32m━━━━━━━━━━━━━━━━━━━━\u001b[0m\u001b[37m\u001b[0m \u001b[1m1s\u001b[0m 5ms/step \n",
      "Confusion Matrix:\n",
      " [[1037   75]\n",
      " [   1 1111]]\n",
      "\n",
      "Classification Report:\n",
      "               precision    recall  f1-score   support\n",
      "\n",
      "         0.0       1.00      0.93      0.96      1112\n",
      "         1.0       0.94      1.00      0.97      1112\n",
      "\n",
      "    accuracy                           0.97      2224\n",
      "   macro avg       0.97      0.97      0.97      2224\n",
      "weighted avg       0.97      0.97      0.97      2224\n",
      "\n",
      "Accuracy: 0.9658273381294964\n"
     ]
    }
   ],
   "source": [
    "from keras.src.saving.saving_lib import load_model\n",
    "from sklearn.metrics import accuracy_score\n",
    "number_of_models = 5\n",
    "\n",
    "for i in range(len(range(number_of_models))):\n",
    "    \n",
    "    model_name = f'model_{i}'\n",
    "    # Load model\n",
    "    model = load_model(f'./{model_name}.keras')\n",
    "    from sklearn.metrics import confusion_matrix,classification_report\n",
    "    \n",
    "    y_pred = (model.predict(X) > 0.6).astype(\"int32\")\n",
    "    score = accuracy_score(y, y_pred)\n",
    "    cm = confusion_matrix(y, y_pred)\n",
    "    cr = classification_report(y, y_pred)\n",
    "    \n",
    "    print(\"Confusion Matrix:\\n\", cm)\n",
    "    print(\"\\nClassification Report:\\n\", cr)\n",
    "    print(f\"Accuracy: {score}\")\n"
   ]
  }
 ],
 "metadata": {
  "kernelspec": {
   "display_name": "base",
   "language": "python",
   "name": "python3"
  },
  "language_info": {
   "codemirror_mode": {
    "name": "ipython",
    "version": 3
   },
   "file_extension": ".py",
   "mimetype": "text/x-python",
   "name": "python",
   "nbconvert_exporter": "python",
   "pygments_lexer": "ipython3",
   "version": "3.12.2"
  }
 },
 "nbformat": 4,
 "nbformat_minor": 5
}
